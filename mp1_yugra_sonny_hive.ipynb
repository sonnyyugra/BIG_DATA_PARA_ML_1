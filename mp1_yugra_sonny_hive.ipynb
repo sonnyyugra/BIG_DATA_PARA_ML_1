{
  "nbformat": 4,
  "nbformat_minor": 0,
  "metadata": {
    "colab": {
      "name": "mp1_yugra_sonny_hive.ipynb",
      "provenance": [],
      "toc_visible": true
    },
    "kernelspec": {
      "name": "python3",
      "display_name": "Python 3"
    }
  },
  "cells": [
    {
      "cell_type": "markdown",
      "metadata": {
        "id": "9NnHUnYdCC2k"
      },
      "source": [
        "# Mini-Tarea 1: Análisis de datos de preferencias musicales\n",
        "\n",
        "La presente actividad debe ser realizada de forma individual. El formato de entregar es el archivo .ipynb con todas las celdas ejecutadas. Las secciones donde se planteen preguntas de forma explícita, deben ser respondida en celdas de texto, y no se aceptará solo el output de una celda de código como respuesta.\n",
        "\n",
        "**Fecha de entrega:** martes 13 de octubre de 2020, 09:00 hrs.\n",
        "\n",
        "**Nombre alumno:** SONNY YUGRA\n"
      ]
    },
    {
      "cell_type": "markdown",
      "metadata": {
        "id": "VveixMBZM7SL"
      },
      "source": [
        "# Apache Hive"
      ]
    },
    {
      "cell_type": "markdown",
      "metadata": {
        "id": "rirmIh6RM-yQ"
      },
      "source": [
        "## Instalación de ambiente"
      ]
    },
    {
      "cell_type": "code",
      "metadata": {
        "id": "zkH5QuyH0ylJ",
        "outputId": "56c2a71b-b3c4-4bbb-9fb7-2040e5dc3a65",
        "colab": {
          "resources": {
            "http://localhost:8080/nbextensions/google.colab/files.js": {
              "data": "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",
              "ok": true,
              "headers": [
                [
                  "content-type",
                  "application/javascript"
                ]
              ],
              "status": 200,
              "status_text": ""
            }
          },
          "base_uri": "https://localhost:8080/",
          "height": 90
        }
      },
      "source": [
        "from google.colab import files\n",
        "\n",
        "uploaded = files.upload()\n",
        "\n",
        "for fn in uploaded.keys():\n",
        "  print('User uploaded file \"{name}\" with length {length} bytes'.format(\n",
        "      name=fn, length=len(uploaded[fn])))"
      ],
      "execution_count": null,
      "outputs": [
        {
          "output_type": "display_data",
          "data": {
            "text/html": [
              "\n",
              "     <input type=\"file\" id=\"files-76f66312-d073-420e-8d11-da692f392f91\" name=\"files[]\" multiple disabled\n",
              "        style=\"border:none\" />\n",
              "     <output id=\"result-76f66312-d073-420e-8d11-da692f392f91\">\n",
              "      Upload widget is only available when the cell has been executed in the\n",
              "      current browser session. Please rerun this cell to enable.\n",
              "      </output>\n",
              "      <script src=\"/nbextensions/google.colab/files.js\"></script> "
            ],
            "text/plain": [
              "<IPython.core.display.HTML object>"
            ]
          },
          "metadata": {
            "tags": []
          }
        },
        {
          "output_type": "stream",
          "text": [
            "Saving hadoop_colab_installer.py to hadoop_colab_installer.py\n",
            "User uploaded file \"hadoop_colab_installer.py\" with length 13493 bytes\n"
          ],
          "name": "stdout"
        }
      ]
    },
    {
      "cell_type": "code",
      "metadata": {
        "id": "vO73ol-jNCdc",
        "outputId": "3012ef2a-676d-4eed-bdb1-c7294faba6be",
        "colab": {
          "base_uri": "https://localhost:8080/",
          "height": 151
        }
      },
      "source": [
        "exec(open('hadoop_colab_installer.py').read())"
      ],
      "execution_count": null,
      "outputs": [
        {
          "output_type": "stream",
          "text": [
            "Active services:\n",
            "2080 NodeManager\n",
            "2178 Jps\n",
            "1635 ResourceManager\n",
            "1717 NameNode\n",
            "2134 JobHistoryServer\n",
            "1788 DataNode\n",
            "\n"
          ],
          "name": "stdout"
        }
      ]
    },
    {
      "cell_type": "markdown",
      "metadata": {
        "id": "G7HaKsAfQvK0"
      },
      "source": [
        "## Descarga de dataset"
      ]
    },
    {
      "cell_type": "code",
      "metadata": {
        "id": "lhwOW-7i2xQv",
        "outputId": "c56d5f4a-1dcc-49c7-c4c4-424f33026fe2",
        "colab": {
          "base_uri": "https://localhost:8080/",
          "height": 34
        }
      },
      "source": [
        "!wget -q --show-progress http://mtg.upf.edu/static/datasets/last.fm/lastfm-dataset-1K.tar.gz\n",
        "!tar xzf lastfm-dataset-1K.tar.gz"
      ],
      "execution_count": null,
      "outputs": [
        {
          "output_type": "stream",
          "text": [
            "lastfm-dataset-1K.t 100%[===================>] 641.58M   703KB/s    in 35m 32s \n"
          ],
          "name": "stdout"
        }
      ]
    },
    {
      "cell_type": "code",
      "metadata": {
        "id": "YyQHxW_q-Q1R"
      },
      "source": [
        ""
      ],
      "execution_count": null,
      "outputs": []
    },
    {
      "cell_type": "markdown",
      "metadata": {
        "id": "2qwA_neHOb18"
      },
      "source": [
        "## Actividad 0"
      ]
    },
    {
      "cell_type": "code",
      "metadata": {
        "id": "vLmOMb6TZfPU"
      },
      "source": [
        "# Inserte su código para copia de datos en HDFS y creación de tablas en metastore\n",
        "!hdfs dfs -mkdir perfiles\n",
        "!hdfs dfs -mkdir listas\n",
        "!hdfs dfs -put lastfm-dataset-1K/userid-profile.tsv perfiles\n",
        "!hdfs dfs -put lastfm-dataset-1K/userid-timestamp-artid-artname-traid-traname.tsv listas"
      ],
      "execution_count": null,
      "outputs": []
    },
    {
      "cell_type": "code",
      "metadata": {
        "id": "SN8iXkmV6zZQ",
        "outputId": "ba92fe29-0c98-4114-9480-8161f30aadea",
        "colab": {
          "base_uri": "https://localhost:8080/",
          "height": 34
        }
      },
      "source": [
        "%%writefile create_tables.sql\n",
        "\n",
        "CREATE TABLE perfiles (user_id STRING, gender STRING, age INT, country STRING, signup STRING) ROW FORMAT DELIMITED FIELDS TERMINATED BY '\\t';\n",
        "LOAD DATA INPATH 'perfiles' INTO TABLE perfiles;\n",
        "\n",
        "CREATE TABLE listas (user_id STRING, registro TIMESTAMP, artist_id INT, artist_name STRING, track_id INT, track_name STRING) ROW FORMAT DELIMITED FIELDS TERMINATED BY '\\t';\n",
        "LOAD DATA INPATH 'listas' INTO TABLE listas;"
      ],
      "execution_count": null,
      "outputs": [
        {
          "output_type": "stream",
          "text": [
            "Writing create_tables.sql\n"
          ],
          "name": "stdout"
        }
      ]
    },
    {
      "cell_type": "code",
      "metadata": {
        "id": "yhbNrxz285X0",
        "outputId": "cd1c0bbd-7da4-4fe7-9eb9-934a993ad662",
        "colab": {
          "base_uri": "https://localhost:8080/",
          "height": 322
        }
      },
      "source": [
        "!hive -f create_tables.sql"
      ],
      "execution_count": null,
      "outputs": [
        {
          "output_type": "stream",
          "text": [
            "SLF4J: Class path contains multiple SLF4J bindings.\n",
            "SLF4J: Found binding in [jar:file:/content/apache-hive-2.3.7-bin/lib/log4j-slf4j-impl-2.6.2.jar!/org/slf4j/impl/StaticLoggerBinder.class]\n",
            "SLF4J: Found binding in [jar:file:/content/hadoop-2.10.0/share/hadoop/common/lib/slf4j-log4j12-1.7.25.jar!/org/slf4j/impl/StaticLoggerBinder.class]\n",
            "SLF4J: See http://www.slf4j.org/codes.html#multiple_bindings for an explanation.\n",
            "SLF4J: Actual binding is of type [org.apache.logging.slf4j.Log4jLoggerFactory]\n",
            "\n",
            "Logging initialized using configuration in jar:file:/content/apache-hive-2.3.7-bin/lib/hive-common-2.3.7.jar!/hive-log4j2.properties Async: true\n",
            "OK\n",
            "Time taken: 9.482 seconds\n",
            "Loading data to table default.perfiles\n",
            "OK\n",
            "Time taken: 1.657 seconds\n",
            "OK\n",
            "Time taken: 0.193 seconds\n",
            "Loading data to table default.listas\n",
            "OK\n",
            "Time taken: 0.584 seconds\n"
          ],
          "name": "stdout"
        }
      ]
    },
    {
      "cell_type": "markdown",
      "metadata": {
        "id": "ew-qZSCxOgZ0"
      },
      "source": [
        "## Actividad 1"
      ]
    },
    {
      "cell_type": "code",
      "metadata": {
        "id": "AgEMO9aLZnuq",
        "outputId": "a28fc5e4-7f9e-473a-eeb7-9bcd2dc541db",
        "colab": {
          "base_uri": "https://localhost:8080/",
          "height": 34
        }
      },
      "source": [
        "# Inserte su código\n",
        "%%writefile actividad_1.sql\n",
        "SELECT artist_name, COUNT(artist_name) as repro\n",
        "FROM listas\n",
        "GROUP BY artist_name\n",
        "ORDER BY repro\n",
        "DESC limit 10;"
      ],
      "execution_count": null,
      "outputs": [
        {
          "output_type": "stream",
          "text": [
            "Writing actividad_1.sql\n"
          ],
          "name": "stdout"
        }
      ]
    },
    {
      "cell_type": "code",
      "metadata": {
        "id": "JklO5rw9RQlv",
        "outputId": "5fe69378-542b-4966-d0dd-66f02d28101a",
        "colab": {
          "base_uri": "https://localhost:8080/",
          "height": 1000
        }
      },
      "source": [
        "!hive -f actividad_1.sql"
      ],
      "execution_count": null,
      "outputs": [
        {
          "output_type": "stream",
          "text": [
            "SLF4J: Class path contains multiple SLF4J bindings.\n",
            "SLF4J: Found binding in [jar:file:/content/apache-hive-2.3.7-bin/lib/log4j-slf4j-impl-2.6.2.jar!/org/slf4j/impl/StaticLoggerBinder.class]\n",
            "SLF4J: Found binding in [jar:file:/content/hadoop-2.10.0/share/hadoop/common/lib/slf4j-log4j12-1.7.25.jar!/org/slf4j/impl/StaticLoggerBinder.class]\n",
            "SLF4J: See http://www.slf4j.org/codes.html#multiple_bindings for an explanation.\n",
            "SLF4J: Actual binding is of type [org.apache.logging.slf4j.Log4jLoggerFactory]\n",
            "\n",
            "Logging initialized using configuration in jar:file:/content/apache-hive-2.3.7-bin/lib/hive-common-2.3.7.jar!/hive-log4j2.properties Async: true\n",
            "WARNING: Hive-on-MR is deprecated in Hive 2 and may not be available in the future versions. Consider using a different execution engine (i.e. spark, tez) or using Hive 1.X releases.\n",
            "Query ID = root_20201012043208_02d23407-e07a-43f3-bf60-0ecaaa44448b\n",
            "Total jobs = 2\n",
            "Launching Job 1 out of 2\n",
            "Number of reduce tasks not specified. Estimated from input data size: 10\n",
            "In order to change the average load for a reducer (in bytes):\n",
            "  set hive.exec.reducers.bytes.per.reducer=<number>\n",
            "In order to limit the maximum number of reducers:\n",
            "  set hive.exec.reducers.max=<number>\n",
            "In order to set a constant number of reducers:\n",
            "  set mapreduce.job.reduces=<number>\n",
            "Starting Job = job_1602474671831_0001, Tracking URL = http://cc63ccef85c1:8088/proxy/application_1602474671831_0001/\n",
            "Kill Command = /content/hadoop/bin/hadoop job  -kill job_1602474671831_0001\n",
            "Hadoop job information for Stage-1: number of mappers: 10; number of reducers: 10\n",
            "2020-10-12 04:32:31,345 Stage-1 map = 0%,  reduce = 0%\n",
            "2020-10-12 04:33:16,446 Stage-1 map = 13%,  reduce = 0%, Cumulative CPU 42.11 sec\n",
            "2020-10-12 04:33:22,115 Stage-1 map = 27%,  reduce = 0%, Cumulative CPU 49.11 sec\n",
            "2020-10-12 04:33:23,267 Stage-1 map = 37%,  reduce = 0%, Cumulative CPU 53.0 sec\n",
            "2020-10-12 04:33:24,416 Stage-1 map = 43%,  reduce = 0%, Cumulative CPU 54.38 sec\n",
            "2020-10-12 04:33:25,510 Stage-1 map = 47%,  reduce = 0%, Cumulative CPU 55.38 sec\n",
            "2020-10-12 04:33:26,648 Stage-1 map = 53%,  reduce = 0%, Cumulative CPU 56.78 sec\n",
            "2020-10-12 04:33:28,897 Stage-1 map = 57%,  reduce = 0%, Cumulative CPU 58.64 sec\n",
            "2020-10-12 04:33:30,055 Stage-1 map = 60%,  reduce = 0%, Cumulative CPU 58.99 sec\n",
            "2020-10-12 04:33:55,866 Stage-1 map = 63%,  reduce = 0%, Cumulative CPU 75.26 sec\n",
            "2020-10-12 04:33:56,966 Stage-1 map = 63%,  reduce = 2%, Cumulative CPU 75.62 sec\n",
            "2020-10-12 04:33:58,054 Stage-1 map = 63%,  reduce = 4%, Cumulative CPU 76.0 sec\n",
            "2020-10-12 04:34:00,529 Stage-1 map = 70%,  reduce = 6%, Cumulative CPU 79.65 sec\n",
            "2020-10-12 04:34:01,609 Stage-1 map = 90%,  reduce = 6%, Cumulative CPU 86.68 sec\n",
            "2020-10-12 04:34:02,663 Stage-1 map = 90%,  reduce = 7%, Cumulative CPU 86.77 sec\n",
            "2020-10-12 04:34:03,714 Stage-1 map = 90%,  reduce = 8%, Cumulative CPU 86.85 sec\n",
            "2020-10-12 04:34:06,931 Stage-1 map = 90%,  reduce = 9%, Cumulative CPU 86.95 sec\n",
            "2020-10-12 04:34:15,691 Stage-1 map = 100%,  reduce = 13%, Cumulative CPU 93.22 sec\n",
            "2020-10-12 04:34:19,130 Stage-1 map = 100%,  reduce = 16%, Cumulative CPU 94.24 sec\n",
            "2020-10-12 04:34:21,357 Stage-1 map = 100%,  reduce = 20%, Cumulative CPU 96.18 sec\n",
            "2020-10-12 04:34:22,522 Stage-1 map = 100%,  reduce = 21%, Cumulative CPU 98.08 sec\n",
            "2020-10-12 04:34:23,664 Stage-1 map = 100%,  reduce = 23%, Cumulative CPU 98.58 sec\n",
            "2020-10-12 04:34:24,775 Stage-1 map = 100%,  reduce = 36%, Cumulative CPU 103.75 sec\n",
            "2020-10-12 04:34:25,861 Stage-1 map = 100%,  reduce = 50%, Cumulative CPU 108.78 sec\n",
            "2020-10-12 04:34:42,862 Stage-1 map = 100%,  reduce = 60%, Cumulative CPU 111.91 sec\n",
            "2020-10-12 04:34:49,469 Stage-1 map = 100%,  reduce = 80%, Cumulative CPU 118.6 sec\n",
            "2020-10-12 04:34:50,527 Stage-1 map = 100%,  reduce = 100%, Cumulative CPU 124.86 sec\n",
            "MapReduce Total cumulative CPU time: 2 minutes 4 seconds 860 msec\n",
            "Ended Job = job_1602474671831_0001\n",
            "Launching Job 2 out of 2\n",
            "Number of reduce tasks determined at compile time: 1\n",
            "In order to change the average load for a reducer (in bytes):\n",
            "  set hive.exec.reducers.bytes.per.reducer=<number>\n",
            "In order to limit the maximum number of reducers:\n",
            "  set hive.exec.reducers.max=<number>\n",
            "In order to set a constant number of reducers:\n",
            "  set mapreduce.job.reduces=<number>\n",
            "Starting Job = job_1602474671831_0002, Tracking URL = http://cc63ccef85c1:8088/proxy/application_1602474671831_0002/\n",
            "Kill Command = /content/hadoop/bin/hadoop job  -kill job_1602474671831_0002\n",
            "Hadoop job information for Stage-2: number of mappers: 1; number of reducers: 1\n",
            "2020-10-12 04:35:04,757 Stage-2 map = 0%,  reduce = 0%\n",
            "2020-10-12 04:35:13,154 Stage-2 map = 100%,  reduce = 0%, Cumulative CPU 5.26 sec\n",
            "2020-10-12 04:35:19,452 Stage-2 map = 100%,  reduce = 100%, Cumulative CPU 7.59 sec\n",
            "MapReduce Total cumulative CPU time: 7 seconds 590 msec\n",
            "Ended Job = job_1602474671831_0002\n",
            "MapReduce Jobs Launched: \n",
            "Stage-Stage-1: Map: 10  Reduce: 10   Cumulative CPU: 124.86 sec   HDFS Read: 2529349319 HDFS Write: 6290492 SUCCESS\n",
            "Stage-Stage-2: Map: 1  Reduce: 1   Cumulative CPU: 7.59 sec   HDFS Read: 6298458 HDFS Write: 387 SUCCESS\n",
            "Total MapReduce CPU Time Spent: 2 minutes 12 seconds 450 msec\n",
            "OK\n",
            "artist_name\trepro\n",
            "Radiohead\t115209\n",
            "The Beatles\t100338\n",
            "Nine Inch Nails\t84421\n",
            "Muse\t63351\n",
            "Coldplay\t62251\n",
            "Depeche Mode\t59910\n",
            "Pink Floyd\t58561\n",
            "Death Cab For Cutie\t58083\n",
            "Placebo\t53543\n",
            "Elliott Smith\t50278\n",
            "Time taken: 193.207 seconds, Fetched: 10 row(s)\n"
          ],
          "name": "stdout"
        }
      ]
    },
    {
      "cell_type": "markdown",
      "metadata": {
        "id": "etiQ4ivuZphe"
      },
      "source": [
        "Responda la siguiente pregunta:\n",
        "\n",
        "¿ Cuál es el artista más popular y el menos popular dele ranking top-10 ?"
      ]
    },
    {
      "cell_type": "markdown",
      "metadata": {
        "id": "STtX-MqGUoR9"
      },
      "source": [
        "Radiohead y Elliott Smith"
      ]
    },
    {
      "cell_type": "markdown",
      "metadata": {
        "id": "dMUgQZPHOjP6"
      },
      "source": [
        "## Actividad 2"
      ]
    },
    {
      "cell_type": "code",
      "metadata": {
        "id": "j2k1V-LcZt3N",
        "outputId": "1abdeb32-07ee-4217-f165-7cf09553eeb3",
        "colab": {
          "base_uri": "https://localhost:8080/",
          "height": 34
        }
      },
      "source": [
        "# Inserte su código\n",
        "%%writefile actividad_2.sql\n",
        "SELECT perfiles.gender, COUNT(perfiles.user_id) as cantidad\n",
        "FROM listas, perfiles\n",
        "WHERE listas.user_id = perfiles.user_id AND listas.artist_name = 'Radiohead'\n",
        "GROUP BY perfiles.gender;\n"
      ],
      "execution_count": null,
      "outputs": [
        {
          "output_type": "stream",
          "text": [
            "Overwriting actividad_2.sql\n"
          ],
          "name": "stdout"
        }
      ]
    },
    {
      "cell_type": "code",
      "metadata": {
        "id": "0FzVA5DqWiFv",
        "outputId": "42d427f1-c38d-4be6-d303-01c8d48bf00e",
        "colab": {
          "base_uri": "https://localhost:8080/",
          "height": 1000
        }
      },
      "source": [
        "!hive -f actividad_2.sql"
      ],
      "execution_count": null,
      "outputs": [
        {
          "output_type": "stream",
          "text": [
            "SLF4J: Class path contains multiple SLF4J bindings.\n",
            "SLF4J: Found binding in [jar:file:/content/apache-hive-2.3.7-bin/lib/log4j-slf4j-impl-2.6.2.jar!/org/slf4j/impl/StaticLoggerBinder.class]\n",
            "SLF4J: Found binding in [jar:file:/content/hadoop-2.10.0/share/hadoop/common/lib/slf4j-log4j12-1.7.25.jar!/org/slf4j/impl/StaticLoggerBinder.class]\n",
            "SLF4J: See http://www.slf4j.org/codes.html#multiple_bindings for an explanation.\n",
            "SLF4J: Actual binding is of type [org.apache.logging.slf4j.Log4jLoggerFactory]\n",
            "\n",
            "Logging initialized using configuration in jar:file:/content/apache-hive-2.3.7-bin/lib/hive-common-2.3.7.jar!/hive-log4j2.properties Async: true\n",
            "WARNING: Hive-on-MR is deprecated in Hive 2 and may not be available in the future versions. Consider using a different execution engine (i.e. spark, tez) or using Hive 1.X releases.\n",
            "Query ID = root_20201012044204_d01ee04e-5825-4cf9-bd55-a5d39d58caa2\n",
            "Total jobs = 1\n",
            "SLF4J: Class path contains multiple SLF4J bindings.\n",
            "SLF4J: Found binding in [jar:file:/content/apache-hive-2.3.7-bin/lib/log4j-slf4j-impl-2.6.2.jar!/org/slf4j/impl/StaticLoggerBinder.class]\n",
            "SLF4J: Found binding in [jar:file:/content/hadoop-2.10.0/share/hadoop/common/lib/slf4j-log4j12-1.7.25.jar!/org/slf4j/impl/StaticLoggerBinder.class]\n",
            "SLF4J: See http://www.slf4j.org/codes.html#multiple_bindings for an explanation.\n",
            "SLF4J: Actual binding is of type [org.apache.logging.slf4j.Log4jLoggerFactory]\n",
            "2020-10-12 04:42:23\tStarting to launch local task to process map join;\tmaximum memory = 477626368\n",
            "2020-10-12 04:42:25\tDump the side-table for tag: 1 with group count: 993 into file: file:/tmp/root/f136209e-0d43-4770-8ba8-47e4c0de5b6c/hive_2020-10-12_04-42-04_901_5101648590523685683-1/-local-10005/HashTable-Stage-2/MapJoin-mapfile01--.hashtable\n",
            "2020-10-12 04:42:25\tUploaded 1 File to: file:/tmp/root/f136209e-0d43-4770-8ba8-47e4c0de5b6c/hive_2020-10-12_04-42-04_901_5101648590523685683-1/-local-10005/HashTable-Stage-2/MapJoin-mapfile01--.hashtable (32078 bytes)\n",
            "2020-10-12 04:42:25\tEnd of local task; Time Taken: 2.2 sec.\n",
            "Execution completed successfully\n",
            "MapredLocal task succeeded\n",
            "Launching Job 1 out of 1\n",
            "Number of reduce tasks not specified. Estimated from input data size: 10\n",
            "In order to change the average load for a reducer (in bytes):\n",
            "  set hive.exec.reducers.bytes.per.reducer=<number>\n",
            "In order to limit the maximum number of reducers:\n",
            "  set hive.exec.reducers.max=<number>\n",
            "In order to set a constant number of reducers:\n",
            "  set mapreduce.job.reduces=<number>\n",
            "Starting Job = job_1602474671831_0003, Tracking URL = http://cc63ccef85c1:8088/proxy/application_1602474671831_0003/\n",
            "Kill Command = /content/hadoop/bin/hadoop job  -kill job_1602474671831_0003\n",
            "Hadoop job information for Stage-2: number of mappers: 10; number of reducers: 10\n",
            "2020-10-12 04:42:36,803 Stage-2 map = 0%,  reduce = 0%\n",
            "2020-10-12 04:43:22,355 Stage-2 map = 20%,  reduce = 0%, Cumulative CPU 43.68 sec\n",
            "2020-10-12 04:43:29,047 Stage-2 map = 53%,  reduce = 0%, Cumulative CPU 55.49 sec\n",
            "2020-10-12 04:43:30,162 Stage-2 map = 60%,  reduce = 0%, Cumulative CPU 55.76 sec\n",
            "2020-10-12 04:44:03,385 Stage-2 map = 60%,  reduce = 2%, Cumulative CPU 77.11 sec\n",
            "2020-10-12 04:44:04,466 Stage-2 map = 70%,  reduce = 4%, Cumulative CPU 78.66 sec\n",
            "2020-10-12 04:44:07,797 Stage-2 map = 77%,  reduce = 4%, Cumulative CPU 83.94 sec\n",
            "2020-10-12 04:44:08,916 Stage-2 map = 87%,  reduce = 5%, Cumulative CPU 86.7 sec\n",
            "2020-10-12 04:44:13,726 Stage-2 map = 100%,  reduce = 5%, Cumulative CPU 90.1 sec\n",
            "2020-10-12 04:44:16,050 Stage-2 map = 100%,  reduce = 9%, Cumulative CPU 90.67 sec\n",
            "2020-10-12 04:44:17,200 Stage-2 map = 100%,  reduce = 13%, Cumulative CPU 92.01 sec\n",
            "2020-10-12 04:44:21,745 Stage-2 map = 100%,  reduce = 17%, Cumulative CPU 95.23 sec\n",
            "2020-10-12 04:44:22,871 Stage-2 map = 100%,  reduce = 20%, Cumulative CPU 95.62 sec\n",
            "2020-10-12 04:44:27,529 Stage-2 map = 100%,  reduce = 30%, Cumulative CPU 98.54 sec\n",
            "2020-10-12 04:44:36,892 Stage-2 map = 100%,  reduce = 40%, Cumulative CPU 101.27 sec\n",
            "2020-10-12 04:44:41,535 Stage-2 map = 100%,  reduce = 50%, Cumulative CPU 103.97 sec\n",
            "2020-10-12 04:44:42,665 Stage-2 map = 100%,  reduce = 60%, Cumulative CPU 107.12 sec\n",
            "2020-10-12 04:44:48,140 Stage-2 map = 100%,  reduce = 80%, Cumulative CPU 112.42 sec\n",
            "2020-10-12 04:44:50,230 Stage-2 map = 100%,  reduce = 90%, Cumulative CPU 114.9 sec\n",
            "2020-10-12 04:44:51,284 Stage-2 map = 100%,  reduce = 100%, Cumulative CPU 116.77 sec\n",
            "MapReduce Total cumulative CPU time: 1 minutes 56 seconds 770 msec\n",
            "Ended Job = job_1602474671831_0003\n",
            "MapReduce Jobs Launched: \n",
            "Stage-Stage-2: Map: 10  Reduce: 10   Cumulative CPU: 116.77 sec   HDFS Read: 2529397619 HDFS Write: 928 SUCCESS\n",
            "Total MapReduce CPU Time Spent: 1 minutes 56 seconds 770 msec\n",
            "OK\n",
            "perfiles.gender\tcantidad\n",
            "\t7677\n",
            "f\t43748\n",
            "m\t63784\n",
            "Time taken: 168.678 seconds, Fetched: 3 row(s)\n"
          ],
          "name": "stdout"
        }
      ]
    },
    {
      "cell_type": "markdown",
      "metadata": {
        "id": "hGYLdDpLZwJA"
      },
      "source": [
        "Responda la siguiente pregunta:\n",
        "\n",
        "¿ Cuál es la cantidad de hombres y mujeres que han escuchado alguna canción del artista más popular ?\n"
      ]
    },
    {
      "cell_type": "markdown",
      "metadata": {
        "id": "HLzcPaOmJeQg"
      },
      "source": [
        "43748 MUJERES Y 63784 HOMBRES"
      ]
    },
    {
      "cell_type": "markdown",
      "metadata": {
        "id": "oCpp3dzyOmPh"
      },
      "source": [
        "## Actividad 3"
      ]
    },
    {
      "cell_type": "code",
      "metadata": {
        "id": "KvEaO0txZ0xR",
        "outputId": "5f1cf18e-40a0-4ae9-9a91-e3b314c562e6",
        "colab": {
          "base_uri": "https://localhost:8080/",
          "height": 34
        }
      },
      "source": [
        "# Inserte su código\n",
        "%%writefile actividad_3.sql\n",
        "SELECT perfiles.age, COUNT(perfiles.age) as cantidad\n",
        "FROM listas, perfiles\n",
        "WHERE listas.user_id = perfiles.user_id AND listas.artist_name = 'Radiohead'\n",
        "GROUP BY perfiles.age\n",
        "ORDER BY perfiles.age ASC;"
      ],
      "execution_count": null,
      "outputs": [
        {
          "output_type": "stream",
          "text": [
            "Overwriting actividad_3.sql\n"
          ],
          "name": "stdout"
        }
      ]
    },
    {
      "cell_type": "code",
      "metadata": {
        "id": "IjMoXe0FKIZc",
        "outputId": "b6fe0b1d-25fb-4414-c309-52ebf63e051c",
        "colab": {
          "base_uri": "https://localhost:8080/",
          "height": 1000
        }
      },
      "source": [
        "!hive -f actividad_3.sql"
      ],
      "execution_count": null,
      "outputs": [
        {
          "output_type": "stream",
          "text": [
            "SLF4J: Class path contains multiple SLF4J bindings.\n",
            "SLF4J: Found binding in [jar:file:/content/apache-hive-2.3.7-bin/lib/log4j-slf4j-impl-2.6.2.jar!/org/slf4j/impl/StaticLoggerBinder.class]\n",
            "SLF4J: Found binding in [jar:file:/content/hadoop-2.10.0/share/hadoop/common/lib/slf4j-log4j12-1.7.25.jar!/org/slf4j/impl/StaticLoggerBinder.class]\n",
            "SLF4J: See http://www.slf4j.org/codes.html#multiple_bindings for an explanation.\n",
            "SLF4J: Actual binding is of type [org.apache.logging.slf4j.Log4jLoggerFactory]\n",
            "\n",
            "Logging initialized using configuration in jar:file:/content/apache-hive-2.3.7-bin/lib/hive-common-2.3.7.jar!/hive-log4j2.properties Async: true\n",
            "WARNING: Hive-on-MR is deprecated in Hive 2 and may not be available in the future versions. Consider using a different execution engine (i.e. spark, tez) or using Hive 1.X releases.\n",
            "Query ID = root_20201012045908_e9bbb48d-7af7-40e5-8c09-ea0f31f403f9\n",
            "Total jobs = 2\n",
            "SLF4J: Class path contains multiple SLF4J bindings.\n",
            "SLF4J: Found binding in [jar:file:/content/apache-hive-2.3.7-bin/lib/log4j-slf4j-impl-2.6.2.jar!/org/slf4j/impl/StaticLoggerBinder.class]\n",
            "SLF4J: Found binding in [jar:file:/content/hadoop-2.10.0/share/hadoop/common/lib/slf4j-log4j12-1.7.25.jar!/org/slf4j/impl/StaticLoggerBinder.class]\n",
            "SLF4J: See http://www.slf4j.org/codes.html#multiple_bindings for an explanation.\n",
            "SLF4J: Actual binding is of type [org.apache.logging.slf4j.Log4jLoggerFactory]\n",
            "2020-10-12 04:59:27\tStarting to launch local task to process map join;\tmaximum memory = 477626368\n",
            "2020-10-12 04:59:29\tDump the side-table for tag: 1 with group count: 993 into file: file:/tmp/root/0c9dca21-0795-4ad6-b09f-81c3d3e7e9bc/hive_2020-10-12_04-59-08_701_3717838299561077848-1/-local-10006/HashTable-Stage-2/MapJoin-mapfile01--.hashtable\n",
            "2020-10-12 04:59:29\tUploaded 1 File to: file:/tmp/root/0c9dca21-0795-4ad6-b09f-81c3d3e7e9bc/hive_2020-10-12_04-59-08_701_3717838299561077848-1/-local-10006/HashTable-Stage-2/MapJoin-mapfile01--.hashtable (30476 bytes)\n",
            "2020-10-12 04:59:29\tEnd of local task; Time Taken: 1.553 sec.\n",
            "Execution completed successfully\n",
            "MapredLocal task succeeded\n",
            "Launching Job 1 out of 2\n",
            "Number of reduce tasks not specified. Estimated from input data size: 10\n",
            "In order to change the average load for a reducer (in bytes):\n",
            "  set hive.exec.reducers.bytes.per.reducer=<number>\n",
            "In order to limit the maximum number of reducers:\n",
            "  set hive.exec.reducers.max=<number>\n",
            "In order to set a constant number of reducers:\n",
            "  set mapreduce.job.reduces=<number>\n",
            "Starting Job = job_1602474671831_0005, Tracking URL = http://cc63ccef85c1:8088/proxy/application_1602474671831_0005/\n",
            "Kill Command = /content/hadoop/bin/hadoop job  -kill job_1602474671831_0005\n",
            "Hadoop job information for Stage-2: number of mappers: 10; number of reducers: 10\n",
            "2020-10-12 04:59:40,050 Stage-2 map = 0%,  reduce = 0%\n",
            "2020-10-12 05:00:24,666 Stage-2 map = 3%,  reduce = 0%, Cumulative CPU 35.83 sec\n",
            "2020-10-12 05:00:31,488 Stage-2 map = 20%,  reduce = 0%, Cumulative CPU 51.96 sec\n",
            "2020-10-12 05:00:33,628 Stage-2 map = 33%,  reduce = 0%, Cumulative CPU 53.45 sec\n",
            "2020-10-12 05:00:34,678 Stage-2 map = 60%,  reduce = 0%, Cumulative CPU 57.05 sec\n",
            "2020-10-12 05:01:08,442 Stage-2 map = 60%,  reduce = 4%, Cumulative CPU 81.61 sec\n",
            "2020-10-12 05:01:10,642 Stage-2 map = 70%,  reduce = 4%, Cumulative CPU 83.44 sec\n",
            "2020-10-12 05:01:11,737 Stage-2 map = 73%,  reduce = 4%, Cumulative CPU 85.99 sec\n",
            "2020-10-12 05:01:13,983 Stage-2 map = 77%,  reduce = 4%, Cumulative CPU 88.47 sec\n",
            "2020-10-12 05:01:15,069 Stage-2 map = 80%,  reduce = 5%, Cumulative CPU 91.31 sec\n",
            "2020-10-12 05:01:16,184 Stage-2 map = 100%,  reduce = 5%, Cumulative CPU 94.59 sec\n",
            "2020-10-12 05:01:20,687 Stage-2 map = 100%,  reduce = 13%, Cumulative CPU 97.45 sec\n",
            "2020-10-12 05:01:24,106 Stage-2 map = 100%,  reduce = 17%, Cumulative CPU 98.54 sec\n",
            "2020-10-12 05:01:25,236 Stage-2 map = 100%,  reduce = 20%, Cumulative CPU 100.05 sec\n",
            "2020-10-12 05:01:34,238 Stage-2 map = 100%,  reduce = 30%, Cumulative CPU 102.61 sec\n",
            "2020-10-12 05:01:44,506 Stage-2 map = 100%,  reduce = 50%, Cumulative CPU 108.17 sec\n",
            "2020-10-12 05:01:45,627 Stage-2 map = 100%,  reduce = 60%, Cumulative CPU 110.86 sec\n",
            "2020-10-12 05:01:49,975 Stage-2 map = 100%,  reduce = 70%, Cumulative CPU 113.21 sec\n",
            "2020-10-12 05:01:51,040 Stage-2 map = 100%,  reduce = 80%, Cumulative CPU 115.95 sec\n",
            "2020-10-12 05:01:54,206 Stage-2 map = 100%,  reduce = 90%, Cumulative CPU 118.29 sec\n",
            "2020-10-12 05:01:56,270 Stage-2 map = 100%,  reduce = 100%, Cumulative CPU 120.61 sec\n",
            "MapReduce Total cumulative CPU time: 2 minutes 0 seconds 610 msec\n",
            "Ended Job = job_1602474671831_0005\n",
            "Launching Job 2 out of 2\n",
            "Number of reduce tasks determined at compile time: 1\n",
            "In order to change the average load for a reducer (in bytes):\n",
            "  set hive.exec.reducers.bytes.per.reducer=<number>\n",
            "In order to limit the maximum number of reducers:\n",
            "  set hive.exec.reducers.max=<number>\n",
            "In order to set a constant number of reducers:\n",
            "  set mapreduce.job.reduces=<number>\n",
            "Starting Job = job_1602474671831_0006, Tracking URL = http://cc63ccef85c1:8088/proxy/application_1602474671831_0006/\n",
            "Kill Command = /content/hadoop/bin/hadoop job  -kill job_1602474671831_0006\n",
            "Hadoop job information for Stage-3: number of mappers: 1; number of reducers: 1\n",
            "2020-10-12 05:02:10,228 Stage-3 map = 0%,  reduce = 0%\n",
            "2020-10-12 05:02:16,549 Stage-3 map = 100%,  reduce = 0%, Cumulative CPU 2.23 sec\n",
            "2020-10-12 05:02:23,831 Stage-3 map = 100%,  reduce = 100%, Cumulative CPU 4.16 sec\n",
            "MapReduce Total cumulative CPU time: 4 seconds 160 msec\n",
            "Ended Job = job_1602474671831_0006\n",
            "MapReduce Jobs Launched: \n",
            "Stage-Stage-2: Map: 10  Reduce: 10   Cumulative CPU: 120.61 sec   HDFS Read: 2529385189 HDFS Write: 1607 SUCCESS\n",
            "Stage-Stage-3: Map: 1  Reduce: 1   Cumulative CPU: 4.16 sec   HDFS Read: 9392 HDFS Write: 692 SUCCESS\n",
            "Total MapReduce CPU Time Spent: 2 minutes 4 seconds 770 msec\n",
            "OK\n",
            "perfiles.age\tcantidad\n",
            "NULL\t0\n",
            "3\t2\n",
            "4\t14\n",
            "7\t2\n",
            "15\t2\n",
            "16\t122\n",
            "17\t444\n",
            "18\t65\n",
            "19\t4514\n",
            "20\t5760\n",
            "21\t1589\n",
            "22\t7038\n",
            "23\t2552\n",
            "24\t1313\n",
            "25\t1289\n",
            "26\t2527\n",
            "27\t2360\n",
            "28\t1330\n",
            "29\t359\n",
            "30\t617\n",
            "31\t146\n",
            "32\t433\n",
            "33\t1441\n",
            "34\t404\n",
            "35\t1543\n",
            "36\t1962\n",
            "38\t422\n",
            "39\t213\n",
            "42\t13\n",
            "48\t35\n",
            "75\t109\n",
            "103\t1\n",
            "Time taken: 196.339 seconds, Fetched: 32 row(s)\n"
          ],
          "name": "stdout"
        }
      ]
    },
    {
      "cell_type": "markdown",
      "metadata": {
        "id": "oRS4jTvWZ2Us"
      },
      "source": [
        "Responda la siguiente pregunta:\n",
        "\n",
        "¿ Cuántos usuarios de 35 años han escuchado al artista más popular ?"
      ]
    },
    {
      "cell_type": "markdown",
      "metadata": {
        "id": "7gweKcMgMklH"
      },
      "source": [
        "1543 personas de 35 años de edad"
      ]
    }
  ]
}